{
 "cells": [
  {
   "cell_type": "code",
   "execution_count": 1,
   "id": "a094f07b-328a-4c52-ac9a-9a6c4b984aed",
   "metadata": {},
   "outputs": [
    {
     "name": "stderr",
     "output_type": "stream",
     "text": [
      "100%|█████████████████████████████████████████████████████| 10/10 [00:00<00:00, 29.85it/s]\n"
     ]
    },
    {
     "data": {
      "text/plain": [
       "[{'onset': 0.870058609969713,\n",
       "  'offset': 2.0470729373394736,\n",
       "  'min_frequency': 507,\n",
       "  'max_frequency': 8550},\n",
       " {'onset': 3.2120809665701175,\n",
       "  'offset': 4.160230387315875,\n",
       "  'min_frequency': 1941,\n",
       "  'max_frequency': 15262},\n",
       " {'onset': 5.13260362180458,\n",
       "  'offset': 6.310577644113367,\n",
       "  'min_frequency': 3405,\n",
       "  'max_frequency': 10992},\n",
       " {'onset': 7.386949402246106,\n",
       "  'offset': 8.470514547859267,\n",
       "  'min_frequency': 4120,\n",
       "  'max_frequency': 8831},\n",
       " {'onset': 9.459600601067086,\n",
       "  'offset': 10.209840586993908,\n",
       "  'min_frequency': 3496,\n",
       "  'max_frequency': 12654},\n",
       " {'onset': 11.03539133522215,\n",
       "  'offset': 12.237344743428856,\n",
       "  'min_frequency': 3820,\n",
       "  'max_frequency': 5871},\n",
       " {'onset': 13.373390337990154,\n",
       "  'offset': 14.464489263449275,\n",
       "  'min_frequency': 920,\n",
       "  'max_frequency': 8066},\n",
       " {'onset': 15.353393000748945,\n",
       "  'offset': 16.185389039692833,\n",
       "  'min_frequency': 1949,\n",
       "  'max_frequency': 5986},\n",
       " {'onset': 17.01547177336291,\n",
       "  'offset': 18.16664729590825,\n",
       "  'min_frequency': 1599,\n",
       "  'max_frequency': 6233},\n",
       " {'onset': 19.278938282363395,\n",
       "  'offset': 20.20927842474104,\n",
       "  'min_frequency': 1732,\n",
       "  'max_frequency': 9321}]"
      ]
     },
     "execution_count": 1,
     "metadata": {},
     "output_type": "execute_result"
    }
   ],
   "source": [
    "import numpy as np\n",
    "import soundfile as sf\n",
    "from scipy.signal import firwin, filtfilt\n",
    "from tqdm import tqdm\n",
    "\n",
    "def fir_bandpass(y, lowcut, highcut, sr, numtaps=1001 ):\n",
    "    nyquist = 0.5 * sr\n",
    "    taps = firwin(numtaps, [lowcut / nyquist, highcut / nyquist], pass_zero=False)\n",
    "    filtered_signal = filtfilt(taps, [1.0], y)\n",
    "    return filtered_signal\n",
    "\n",
    "def get_random_time_interval(mid = 1, dev = 0.25):\n",
    "    return np.random.rand() * (dev * 2) - dev + mid\n",
    "\n",
    "def get_random_cutoff_frequency( sr ):\n",
    "    frequencies = [np.random.choice( int(sr / 6) ), \n",
    "                   np.random.choice( np.arange(int(sr * 1.1 / 6), sr // 2) )  \n",
    "                  ]\n",
    "    min_frequency = min(frequencies)\n",
    "    max_frequency = max(frequencies)\n",
    "    return min_frequency, max_frequency\n",
    "\n",
    "def get_white_noise( num_white_noise_blocks = 10, sr = 32000 ):\n",
    "    label = []\n",
    "    current_time = 0\n",
    "    for _ in range(num_white_noise_blocks):\n",
    "        onset = current_time + get_random_time_interval()\n",
    "        offset = onset + get_random_time_interval()\n",
    "        current_time = offset\n",
    "        min_freq, max_freq = get_random_cutoff_frequency(sr)\n",
    "        label.append( {\n",
    "            \"onset\": onset,\n",
    "            \"offset\": offset,\n",
    "            \"min_frequency\": min_freq,\n",
    "            \"max_frequency\": max_freq\n",
    "        } )\n",
    "\n",
    "    y = np.zeros( int((current_time + 1) * sr ) ).astype(np.float32)\n",
    "    for item in tqdm(label):\n",
    "        onset_idx = int( item[\"onset\"] * sr )\n",
    "        offset_idx = int( item[\"offset\"] * sr )\n",
    "        white_noise_signal = np.random.rand( offset_idx - onset_idx ).astype(np.float32)\n",
    "        ## apply bandpass filtering\n",
    "        white_noise_signal = fir_bandpass(white_noise_signal, \n",
    "                                          item[\"min_frequency\"], \n",
    "                                          item[\"max_frequency\"], \n",
    "                                          sr )\n",
    "        y[ onset_idx:offset_idx ] = white_noise_signal\n",
    "    return y.astype(np.float32), label\n",
    "\n",
    "sr = 32000 \n",
    "y, label = get_white_noise(sr = sr)\n",
    "sf.write(\"white-noise.wav\", y, samplerate = sr)\n",
    "label"
   ]
  },
  {
   "cell_type": "code",
   "execution_count": null,
   "id": "2183c890-b124-47c9-9aa7-07072d3d40d9",
   "metadata": {},
   "outputs": [],
   "source": []
  }
 ],
 "metadata": {
  "kernelspec": {
   "display_name": "Python 3 (ipykernel)",
   "language": "python",
   "name": "python3"
  },
  "language_info": {
   "codemirror_mode": {
    "name": "ipython",
    "version": 3
   },
   "file_extension": ".py",
   "mimetype": "text/x-python",
   "name": "python",
   "nbconvert_exporter": "python",
   "pygments_lexer": "ipython3",
   "version": "3.10.10"
  }
 },
 "nbformat": 4,
 "nbformat_minor": 5
}
