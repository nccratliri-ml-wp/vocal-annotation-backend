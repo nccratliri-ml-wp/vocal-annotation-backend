{
 "cells": [
  {
   "cell_type": "code",
   "execution_count": 1,
   "id": "fc69facf-6d92-4594-8c8e-87f0dcdaf46e",
   "metadata": {},
   "outputs": [],
   "source": [
    "import requests, json\n",
    "import base64\n",
    "from IPython.display import Audio\n",
    "import io\n",
    "from PIL import Image\n",
    "import base64"
   ]
  },
  {
   "cell_type": "code",
   "execution_count": 2,
   "id": "1a7b16b2-0a67-42b1-9f1b-2a75af9ca139",
   "metadata": {},
   "outputs": [],
   "source": [
    "def bytes_to_base64_string(f_bytes):\n",
    "    return base64.b64encode(f_bytes).decode('ASCII')\n",
    "\n",
    "def base64_string_to_bytes(base64_string):\n",
    "    return base64.b64decode(base64_string)"
   ]
  },
  {
   "cell_type": "markdown",
   "id": "1d75771d-23cc-4222-934e-24605a73d362",
   "metadata": {},
   "source": [
    "## Upload"
   ]
  },
  {
   "cell_type": "markdown",
   "id": "e9e24c30-056a-4c24-8294-6b691b864c40",
   "metadata": {},
   "source": [
    "### Upload from file"
   ]
  },
  {
   "cell_type": "code",
   "execution_count": 3,
   "id": "79d8e235-8c9b-4a84-ac2a-fa4f98b937dc",
   "metadata": {},
   "outputs": [],
   "source": [
    "with open(\"example_audios/BP_2021-10-23_09-08-47_049985_0540000_daq1.wav\", \"rb\") as f:\n",
    "    file_data = f.read()"
   ]
  },
  {
   "cell_type": "code",
   "execution_count": 4,
   "id": "cf6b6f41-1bae-4cbc-87cc-33994859d704",
   "metadata": {},
   "outputs": [],
   "source": [
    "results = requests.post(\n",
    "    \"http://localhost:8050/upload\",\n",
    "    files = {\"newAudioFile\":file_data},\n",
    "    data = { \n",
    "             \"hop_length\": None,\n",
    "             \"num_spec_columns\": None,\n",
    "             \"sampling_rate\": None,\n",
    "             \"spec_cal_method\": None,\n",
    "             \"n_fft\": None,\n",
    "             \"bins_per_octave\": None,\n",
    "             \"min_frequency\": None,\n",
    "             \"max_frequency\": None\n",
    "           }\n",
    ").json()\n",
    "audio_id = results[\"channels\"][0][\"audio_id\"]"
   ]
  },
  {
   "cell_type": "code",
   "execution_count": 5,
   "id": "aba70dbd-4b47-4378-ac36-9a091f820640",
   "metadata": {},
   "outputs": [
    {
     "data": {
      "text/plain": [
       "419.4304375"
      ]
     },
     "execution_count": 5,
     "metadata": {},
     "output_type": "execute_result"
    }
   ],
   "source": [
    "results[\"channels\"][0][\"audio_duration\"]"
   ]
  },
  {
   "cell_type": "code",
   "execution_count": 6,
   "id": "6fc92093-9c7d-49f7-a9c3-009b0fa1b8ef",
   "metadata": {},
   "outputs": [
    {
     "data": {
      "text/plain": [
       "{'bins_per_octave': None,\n",
       " 'hop_length': 6710,\n",
       " 'max_frequency': 8000,\n",
       " 'min_frequency': 0,\n",
       " 'n_fft': 512,\n",
       " 'num_spec_columns': 1000,\n",
       " 'sampling_rate': 16000,\n",
       " 'spec_cal_method': 'log-mel'}"
      ]
     },
     "execution_count": 6,
     "metadata": {},
     "output_type": "execute_result"
    }
   ],
   "source": [
    "results[\"configurations\"]"
   ]
  },
  {
   "cell_type": "markdown",
   "id": "6d48b9c9-f1a0-4624-aab7-58ae6d3d8989",
   "metadata": {},
   "source": [
    "### Upload from URL"
   ]
  },
  {
   "cell_type": "code",
   "execution_count": 7,
   "id": "a0aa34b1-e833-4e80-ae2f-dcc6687515fd",
   "metadata": {},
   "outputs": [],
   "source": [
    "import requests, json\n",
    "results = requests.post( \n",
    "    \"http://localhost:8050/upload-by-url\",\n",
    "    data = json.dumps( {\n",
    "             \"audio_url\":\"https://www2.cs.uic.edu/~i101/SoundFiles/BabyElephantWalk60.wav\" ,\n",
    "             \"spec_cal_method\": \"constant-q\",\n",
    "             \"n_fft\": None,\n",
    "             \"bins_per_octave\": None,\n",
    "             \"hop_length\": None,\n",
    "             \"num_spec_columns\": None,\n",
    "             \"sampling_rate\": None,\n",
    "             \"min_frequency\": -100,\n",
    "             \"max_frequency\": None\n",
    "    }),\n",
    "    headers = {\"content-type\":\"application/json\"}\n",
    ").json()"
   ]
  },
  {
   "cell_type": "markdown",
   "id": "35e71d0a-102f-449a-b27c-800ccdb5384b",
   "metadata": {},
   "source": [
    "## Get spectrogram"
   ]
  },
  {
   "cell_type": "code",
   "execution_count": 8,
   "id": "c8ef8e69-17e7-4e3b-9ef6-834699918060",
   "metadata": {},
   "outputs": [],
   "source": [
    "import requests, json\n",
    "results = requests.post( \n",
    "    \"http://localhost:8050/get-audio-clip-spec\",\n",
    "    data = json.dumps( {\n",
    "             \"audio_id\":audio_id ,\n",
    "             \"start_time\": 1.2,\n",
    "             \"spec_cal_method\": None,\n",
    "             \"n_fft\": None,\n",
    "             \"bins_per_octave\": None,\n",
    "             \"hop_length\": 160,\n",
    "             \"num_spec_columns\": 1000,\n",
    "             \"sampling_rate\": None,\n",
    "             \"min_frequency\": 0,\n",
    "             \"max_frequency\": None\n",
    "    }),\n",
    "    headers = {\"content-type\":\"application/json\"}\n",
    ").json()"
   ]
  },
  {
   "cell_type": "code",
   "execution_count": 9,
   "id": "884bb3d3-e92e-4dfa-9d44-2d9668969002",
   "metadata": {},
   "outputs": [
    {
     "data": {
      "text/plain": [
       "dict_keys(['configurations', 'freqs', 'spec'])"
      ]
     },
     "execution_count": 9,
     "metadata": {},
     "output_type": "execute_result"
    }
   ],
   "source": [
    "results.keys()"
   ]
  },
  {
   "cell_type": "code",
   "execution_count": 10,
   "id": "e2857bc8-46e3-4430-aa11-5c22ca6c638c",
   "metadata": {},
   "outputs": [
    {
     "data": {
      "text/plain": [
       "{'bins_per_octave': None,\n",
       " 'hop_length': 160,\n",
       " 'max_frequency': 8000,\n",
       " 'min_frequency': 0,\n",
       " 'n_fft': 512,\n",
       " 'num_spec_columns': 1000,\n",
       " 'sampling_rate': 16000,\n",
       " 'spec_cal_method': 'log-mel'}"
      ]
     },
     "execution_count": 10,
     "metadata": {},
     "output_type": "execute_result"
    }
   ],
   "source": [
    "results[\"configurations\"]"
   ]
  },
  {
   "cell_type": "markdown",
   "id": "ba4ba299-e8b3-464b-a7bc-11f2f4e5d997",
   "metadata": {},
   "source": [
    "## Get Audio Clip"
   ]
  },
  {
   "cell_type": "code",
   "execution_count": 69,
   "id": "9198725d-7e04-4d14-a84e-58ad53127ede",
   "metadata": {},
   "outputs": [],
   "source": [
    "response = requests.post( \n",
    "    \"http://localhost:8050/get-audio-clip-wav\",\n",
    "    data = json.dumps( {\n",
    "        \"audio_id\":audio_id,\n",
    "        \"start_time\":0,\n",
    "        \"clip_duration\":100,\n",
    "    }),\n",
    "    headers = {\"content-type\":\"application/json\"}\n",
    ").json()\n",
    "Audio(base64.b64decode(response[\"wav\"]))"
   ]
  },
  {
   "cell_type": "markdown",
   "id": "1406d1bd-f6fb-426e-b611-54756c9eb6bf",
   "metadata": {},
   "source": [
    "## Post Labels"
   ]
  },
  {
   "cell_type": "code",
   "execution_count": 12,
   "id": "05155f8d-b7b9-4b5c-9a50-8435441356af",
   "metadata": {},
   "outputs": [
    {
     "data": {
      "text/plain": [
       "{'message': 'Annotations inserted successfully.'}"
      ]
     },
     "execution_count": 12,
     "metadata": {},
     "output_type": "execute_result"
    }
   ],
   "source": [
    "import requests, json\n",
    "\n",
    "res = requests.post(\n",
    "    'http://localhost:8050/post-annotations',\n",
    "    data = json.dumps(\n",
    "        {  \n",
    "            \"annotations\": [\n",
    "                {\n",
    "                    \"onset\": 0,\n",
    "                    \"offset\": 0,\n",
    "                    \"species\": \"SPECIES_NAME_HERE\",\n",
    "                    \"individual\": \"INDIVIDUAL_NAME_HERE\",\n",
    "                    \"filename\": \"FILENAME_HERE\",\n",
    "                    \"annotation_instance\": \"ANNOTATION_INSTANCE_HERE\"\n",
    "                },\n",
    "                ##  more annotations goes here\n",
    "            ]\n",
    "        \n",
    "        }\n",
    "    ),\n",
    "    headers = { \"Content-Type\":\"application/json\",\n",
    "                \"accept\":\"application/json\"\n",
    "              }\n",
    ").json()\n",
    "res"
   ]
  },
  {
   "cell_type": "markdown",
   "id": "9ebf124d-c063-46a2-84c6-31b6e8f31422",
   "metadata": {},
   "source": [
    "## Delete Audio Ids"
   ]
  },
  {
   "cell_type": "code",
   "execution_count": 13,
   "id": "c865fd2f-50be-4f44-a7d5-b623b62b38eb",
   "metadata": {},
   "outputs": [
    {
     "data": {
      "text/plain": [
       "{'status': 'success'}"
      ]
     },
     "execution_count": 13,
     "metadata": {},
     "output_type": "execute_result"
    }
   ],
   "source": [
    "import requests, json\n",
    "\n",
    "res = requests.post(\n",
    "    'http://localhost:8050/release-audio-given-ids',\n",
    "    data = json.dumps({ \"audio_id_list\": [ '152ca390-7ca7-48a0-b0c4-aa9617639753',\n",
    "                                           'ddjjiu3m-huue-efrw-frff-bshah8773ksu',\n",
    "                                         ] }),\n",
    "    headers = { \"Content-Type\":\"application/json\",\n",
    "                \"accept\":\"application/json\"\n",
    "              }\n",
    ").json()\n",
    "res"
   ]
  },
  {
   "cell_type": "markdown",
   "id": "01f33191-a492-4644-8f3c-bb1b5ae8300d",
   "metadata": {},
   "source": [
    "## List Available Models"
   ]
  },
  {
   "cell_type": "markdown",
   "id": "8b1aefa3-df86-4d12-9096-ce8e146ae861",
   "metadata": {},
   "source": [
    "### List Models Available for Finetuning"
   ]
  },
  {
   "cell_type": "code",
   "execution_count": 14,
   "id": "6bd23876-83e0-41f0-ae83-3e75e98c67bf",
   "metadata": {},
   "outputs": [
    {
     "data": {
      "text/plain": [
       "{'response': [{'eta': '--:--:--',\n",
       "   'model_name': 'whisperseg-base',\n",
       "   'status': 'ready'},\n",
       "  {'eta': '--:--:--', 'model_name': 'whisperseg-large', 'status': 'ready'},\n",
       "  {'eta': '--:--:--',\n",
       "   'model_name': 'r3428-99dph-whisperseg_base',\n",
       "   'status': 'ready'},\n",
       "  {'eta': '--:--:--',\n",
       "   'model_name': 'r3428-99dph-whisperseg-base-v2.0',\n",
       "   'status': 'ready'},\n",
       "  {'eta': '--:--:--',\n",
       "   'model_name': 'r3428-99dph-whisperseg-large',\n",
       "   'status': 'ready'},\n",
       "  {'eta': '--:--:--',\n",
       "   'model_name': 'new-whisperseg-bengalese-finch',\n",
       "   'status': 'ready'}]}"
      ]
     },
     "execution_count": 14,
     "metadata": {},
     "output_type": "execute_result"
    }
   ],
   "source": [
    "response = requests.post( \n",
    "    \"http://localhost:8050/list-models-available-for-finetuning\",\n",
    "    headers = {\"content-type\":\"application/json\"}\n",
    ").json()\n",
    "response"
   ]
  },
  {
   "cell_type": "markdown",
   "id": "6dcbe09d-a43a-46e0-b211-967766b31646",
   "metadata": {},
   "source": [
    "### List Models Available for Inference"
   ]
  },
  {
   "cell_type": "code",
   "execution_count": 15,
   "id": "675c4c1d-270e-415d-a30d-86ca422efe25",
   "metadata": {},
   "outputs": [
    {
     "data": {
      "text/plain": [
       "{'response': [{'eta': '--:--:--',\n",
       "   'model_name': 'whisperseg-base',\n",
       "   'status': 'ready'},\n",
       "  {'eta': '--:--:--', 'model_name': 'whisperseg-large', 'status': 'ready'},\n",
       "  {'eta': '--:--:--',\n",
       "   'model_name': 'r3428-99dph-whisperseg_base',\n",
       "   'status': 'ready'},\n",
       "  {'eta': '--:--:--',\n",
       "   'model_name': 'r3428-99dph-whisperseg-base-v2.0',\n",
       "   'status': 'ready'},\n",
       "  {'eta': '--:--:--',\n",
       "   'model_name': 'r3428-99dph-whisperseg-large',\n",
       "   'status': 'ready'},\n",
       "  {'eta': '--:--:--',\n",
       "   'model_name': 'new-whisperseg-bengalese-finch',\n",
       "   'status': 'ready'}]}"
      ]
     },
     "execution_count": 15,
     "metadata": {},
     "output_type": "execute_result"
    }
   ],
   "source": [
    "response = requests.post( \n",
    "    \"http://localhost:8050/list-models-available-for-inference\",\n",
    "    headers = {\"content-type\":\"application/json\"}\n",
    ").json()\n",
    "response"
   ]
  },
  {
   "cell_type": "markdown",
   "id": "c3a721a7-38e1-42cf-8ee9-61a69d387664",
   "metadata": {},
   "source": [
    "### List Models Being Trained"
   ]
  },
  {
   "cell_type": "code",
   "execution_count": 17,
   "id": "5c1704bb-9e87-40af-84fa-aa54c4710751",
   "metadata": {},
   "outputs": [
    {
     "data": {
      "text/plain": [
       "{'response': []}"
      ]
     },
     "execution_count": 17,
     "metadata": {},
     "output_type": "execute_result"
    }
   ],
   "source": [
    "response = requests.post( \n",
    "    \"http://localhost:8050/list-models-training-in-progress\",\n",
    "    headers = {\"content-type\":\"application/json\"}\n",
    ").json()\n",
    "response"
   ]
  },
  {
   "cell_type": "markdown",
   "id": "848398a2-d50d-4f86-85cf-294571e186aa",
   "metadata": {
    "tags": []
   },
   "source": [
    "## Get WhisperSeg Segmentation"
   ]
  },
  {
   "cell_type": "code",
   "execution_count": 18,
   "id": "35665195-3916-403d-a10c-6a2a194ed7d8",
   "metadata": {},
   "outputs": [],
   "source": [
    "response = requests.post( \n",
    "    \"http://localhost:8050/get-labels\",\n",
    "    data = json.dumps( {\n",
    "        \"audio_id\":audio_id,\n",
    "        \"model_name\":\"whisperseg-large\",\n",
    "        \"min_frequency\": 0\n",
    "    }),\n",
    "    headers = {\"content-type\":\"application/json\"}\n",
    ").json()"
   ]
  },
  {
   "cell_type": "code",
   "execution_count": 19,
   "id": "96993955-3194-4dd6-abc0-140aa394ca39",
   "metadata": {},
   "outputs": [
    {
     "data": {
      "text/plain": [
       "[{'clustername': 'Unknown',\n",
       "  'individual': 'Unknown',\n",
       "  'offset': 14.595,\n",
       "  'onset': 14.497,\n",
       "  'species': 'Unknown'},\n",
       " {'clustername': 'Unknown',\n",
       "  'individual': 'Unknown',\n",
       "  'offset': 15.108,\n",
       "  'onset': 15.008,\n",
       "  'species': 'Unknown'},\n",
       " {'clustername': 'Unknown',\n",
       "  'individual': 'Unknown',\n",
       "  'offset': 15.695,\n",
       "  'onset': 15.572,\n",
       "  'species': 'Unknown'},\n",
       " {'clustername': 'Unknown',\n",
       "  'individual': 'Unknown',\n",
       "  'offset': 16.772,\n",
       "  'onset': 16.715,\n",
       "  'species': 'Unknown'},\n",
       " {'clustername': 'Unknown',\n",
       "  'individual': 'Unknown',\n",
       "  'offset': 17.028,\n",
       "  'onset': 16.983,\n",
       "  'species': 'Unknown'}]"
      ]
     },
     "execution_count": 19,
     "metadata": {},
     "output_type": "execute_result"
    }
   ],
   "source": [
    "response[\"labels\"][:5]"
   ]
  },
  {
   "cell_type": "markdown",
   "id": "3e5e7a9d-e4ed-4595-b482-7569eaa80ea9",
   "metadata": {},
   "source": [
    "## Human-in-the-loop Training WhisperSeg Pipeline"
   ]
  },
  {
   "cell_type": "code",
   "execution_count": 1,
   "id": "98dd37b6-4536-4e59-ba41-303191c7d6df",
   "metadata": {},
   "outputs": [],
   "source": [
    "import requests, json\n",
    "import pandas as pd"
   ]
  },
  {
   "cell_type": "markdown",
   "id": "7273be37-aca4-4695-9da7-138c42134f57",
   "metadata": {},
   "source": [
    "### Upload file"
   ]
  },
  {
   "cell_type": "code",
   "execution_count": 10,
   "id": "abc452bc-ab0c-44ac-81b6-b2ae213396a5",
   "metadata": {},
   "outputs": [
    {
     "data": {
      "text/plain": [
       "'604d62fc-c11c-4c98-ae0f-cbe915fc2186'"
      ]
     },
     "execution_count": 10,
     "metadata": {},
     "output_type": "execute_result"
    }
   ],
   "source": [
    "with open(\"example_audios/human-in-the-loop-training-example/audio.wav\", \"rb\") as f:\n",
    "    file_data = f.read()\n",
    "results = requests.post(\n",
    "    \"http://localhost:8050/upload\",\n",
    "    files = {\"newAudioFile\":file_data},\n",
    "    data = { \n",
    "             \"hop_length\": None,\n",
    "             \"num_spec_columns\": None,\n",
    "             \"sampling_rate\": None,\n",
    "             \"spec_cal_method\": None,\n",
    "             \"n_fft\": None,\n",
    "             \"bins_per_octave\": None,\n",
    "             \"min_frequency\": None,\n",
    "             \"max_frequency\": None\n",
    "           }\n",
    ").json()\n",
    "audio_id = results[\"channels\"][0][\"audio_id\"]\n",
    "audio_id"
   ]
  },
  {
   "cell_type": "markdown",
   "id": "d67fd383-73a5-4872-bf8b-0288ee318d7d",
   "metadata": {},
   "source": [
    "### Human Annotation \n",
    "Suppose human annotator annotated the first 15 seconds"
   ]
  },
  {
   "cell_type": "code",
   "execution_count": 11,
   "id": "37da1ad0-20eb-437a-9198-411df237bb09",
   "metadata": {},
   "outputs": [
    {
     "data": {
      "text/html": [
       "<div>\n",
       "<style scoped>\n",
       "    .dataframe tbody tr th:only-of-type {\n",
       "        vertical-align: middle;\n",
       "    }\n",
       "\n",
       "    .dataframe tbody tr th {\n",
       "        vertical-align: top;\n",
       "    }\n",
       "\n",
       "    .dataframe thead th {\n",
       "        text-align: right;\n",
       "    }\n",
       "</style>\n",
       "<table border=\"1\" class=\"dataframe\">\n",
       "  <thead>\n",
       "    <tr style=\"text-align: right;\">\n",
       "      <th></th>\n",
       "      <th>onset</th>\n",
       "      <th>offset</th>\n",
       "      <th>species</th>\n",
       "      <th>individual</th>\n",
       "      <th>clustername</th>\n",
       "      <th>filename</th>\n",
       "      <th>channelIndex</th>\n",
       "    </tr>\n",
       "  </thead>\n",
       "  <tbody>\n",
       "    <tr>\n",
       "      <th>0</th>\n",
       "      <td>0.000000</td>\n",
       "      <td>0.121816</td>\n",
       "      <td>zebra finch</td>\n",
       "      <td>bird1</td>\n",
       "      <td>U</td>\n",
       "      <td>audio.wav</td>\n",
       "      <td>0</td>\n",
       "    </tr>\n",
       "    <tr>\n",
       "      <th>1</th>\n",
       "      <td>0.178039</td>\n",
       "      <td>0.271743</td>\n",
       "      <td>zebra finch</td>\n",
       "      <td>bird1</td>\n",
       "      <td>U</td>\n",
       "      <td>audio.wav</td>\n",
       "      <td>0</td>\n",
       "    </tr>\n",
       "    <tr>\n",
       "      <th>2</th>\n",
       "      <td>0.290484</td>\n",
       "      <td>0.393559</td>\n",
       "      <td>zebra finch</td>\n",
       "      <td>bird1</td>\n",
       "      <td>U</td>\n",
       "      <td>audio.wav</td>\n",
       "      <td>0</td>\n",
       "    </tr>\n",
       "    <tr>\n",
       "      <th>3</th>\n",
       "      <td>0.440411</td>\n",
       "      <td>0.599709</td>\n",
       "      <td>zebra finch</td>\n",
       "      <td>bird1</td>\n",
       "      <td>A</td>\n",
       "      <td>audio.wav</td>\n",
       "      <td>0</td>\n",
       "    </tr>\n",
       "    <tr>\n",
       "      <th>4</th>\n",
       "      <td>0.599709</td>\n",
       "      <td>0.862082</td>\n",
       "      <td>zebra finch</td>\n",
       "      <td>bird1</td>\n",
       "      <td>B</td>\n",
       "      <td>audio.wav</td>\n",
       "      <td>0</td>\n",
       "    </tr>\n",
       "  </tbody>\n",
       "</table>\n",
       "</div>"
      ],
      "text/plain": [
       "      onset    offset      species individual clustername   filename   \n",
       "0  0.000000  0.121816  zebra finch      bird1           U  audio.wav  \\\n",
       "1  0.178039  0.271743  zebra finch      bird1           U  audio.wav   \n",
       "2  0.290484  0.393559  zebra finch      bird1           U  audio.wav   \n",
       "3  0.440411  0.599709  zebra finch      bird1           A  audio.wav   \n",
       "4  0.599709  0.862082  zebra finch      bird1           B  audio.wav   \n",
       "\n",
       "   channelIndex  \n",
       "0             0  \n",
       "1             0  \n",
       "2             0  \n",
       "3             0  \n",
       "4             0  "
      ]
     },
     "execution_count": 11,
     "metadata": {},
     "output_type": "execute_result"
    }
   ],
   "source": [
    "df = pd.read_csv( \"example_audios/human-in-the-loop-training-example/annotations.csv\" )\n",
    "df.head()"
   ]
  },
  {
   "cell_type": "markdown",
   "id": "807cb93f-9cc2-4dcb-b2d8-8ad32282769b",
   "metadata": {},
   "source": [
    "### Check the available model for finetuning and select one"
   ]
  },
  {
   "cell_type": "code",
   "execution_count": 29,
   "id": "64b6fdcb-9507-439f-a9dc-feb2a4697a3d",
   "metadata": {},
   "outputs": [
    {
     "data": {
      "text/plain": [
       "{'response': [{'eta': '--:--:--',\n",
       "   'model_name': 'whisperseg-base',\n",
       "   'status': 'ready'},\n",
       "  {'eta': '--:--:--', 'model_name': 'whisperseg-large', 'status': 'ready'},\n",
       "  {'eta': '--:--:--',\n",
       "   'model_name': 'r3428-99dph-whisperseg_base',\n",
       "   'status': 'ready'},\n",
       "  {'eta': '--:--:--',\n",
       "   'model_name': 'r3428-99dph-whisperseg-base-v2.0',\n",
       "   'status': 'ready'},\n",
       "  {'eta': '--:--:--',\n",
       "   'model_name': 'r3428-99dph-whisperseg-large',\n",
       "   'status': 'ready'}]}"
      ]
     },
     "execution_count": 29,
     "metadata": {},
     "output_type": "execute_result"
    }
   ],
   "source": [
    "response = requests.post( \n",
    "    \"http://localhost:8050/list-models-available-for-finetuning\",\n",
    "    headers = {\"content-type\":\"application/json\"}\n",
    ").json()\n",
    "response"
   ]
  },
  {
   "cell_type": "markdown",
   "id": "02627659-d1d3-4b34-a557-50cb67f84fe3",
   "metadata": {},
   "source": [
    "suppose the user selects the model \"whisperseg-base\""
   ]
  },
  {
   "cell_type": "markdown",
   "id": "e44f127f-c756-46ee-a63f-652539f5f757",
   "metadata": {},
   "source": [
    "### Give a new name to the finetuned model\n",
    "For this the user can see the full list of existing models, and the frontend will check if the given new_model_name is unique\n",
    "\n",
    "The list of existing model names can be obtained by the API calls below:"
   ]
  },
  {
   "cell_type": "code",
   "execution_count": 30,
   "id": "8cf275e5-d855-42e7-9223-613d91c409fc",
   "metadata": {},
   "outputs": [
    {
     "data": {
      "text/plain": [
       "[{'eta': '--:--:--', 'model_name': 'whisperseg-base', 'status': 'ready'},\n",
       " {'eta': '--:--:--', 'model_name': 'whisperseg-large', 'status': 'ready'},\n",
       " {'eta': '--:--:--',\n",
       "  'model_name': 'r3428-99dph-whisperseg_base',\n",
       "  'status': 'ready'},\n",
       " {'eta': '--:--:--',\n",
       "  'model_name': 'r3428-99dph-whisperseg-base-v2.0',\n",
       "  'status': 'ready'},\n",
       " {'eta': '--:--:--',\n",
       "  'model_name': 'r3428-99dph-whisperseg-large',\n",
       "  'status': 'ready'},\n",
       " {'eta': '--:--:--', 'model_name': 'whisperseg-base', 'status': 'ready'},\n",
       " {'eta': '--:--:--', 'model_name': 'whisperseg-large', 'status': 'ready'},\n",
       " {'eta': '--:--:--',\n",
       "  'model_name': 'r3428-99dph-whisperseg_base',\n",
       "  'status': 'ready'},\n",
       " {'eta': '--:--:--',\n",
       "  'model_name': 'r3428-99dph-whisperseg-base-v2.0',\n",
       "  'status': 'ready'},\n",
       " {'eta': '--:--:--',\n",
       "  'model_name': 'r3428-99dph-whisperseg-large',\n",
       "  'status': 'ready'}]"
      ]
     },
     "execution_count": 30,
     "metadata": {},
     "output_type": "execute_result"
    }
   ],
   "source": [
    "all_models = requests.post(  \"http://localhost:8050/list-models-available-for-finetuning\" ).json()[\"response\"] + \\\n",
    "requests.post(  \"http://localhost:8050/list-models-available-for-inference\" ).json()[\"response\"] + \\\n",
    "requests.post(  \"http://localhost:8050/list-models-training-in-progress\" ).json()[\"response\"] \n",
    "all_models"
   ]
  },
  {
   "cell_type": "markdown",
   "id": "2e87d2a5-69e0-4c84-a5d6-e38a9c0b2ee6",
   "metadata": {},
   "source": [
    "### Start submit training request"
   ]
  },
  {
   "cell_type": "code",
   "execution_count": 16,
   "id": "1f6931ea-6d05-4c0f-9c25-3d5bda3f062f",
   "metadata": {},
   "outputs": [],
   "source": [
    "# audio_id\n",
    "annotated_areas = [ { \"onset\":0, \"offset\":40 } ]  ## the first 15 seconds are annotated\n",
    "human_labels = [dict(df.iloc[idx]) for idx in range(len(df)) ]  ## get the human_labels\n",
    "for item in human_labels: ## to make it JSON serializable\n",
    "    item[\"onset\"] = float(item[\"onset\"])\n",
    "    item[\"offset\"] = float(item[\"offset\"])  \n",
    "    item[\"channelIndex\"] = int(item[\"channelIndex\"])\n",
    "\n",
    "new_model_name = \"whisperseg-base-debug-v3.0\"\n",
    "inital_model_name = \"whisperseg-base\"\n",
    "min_frequency = 0"
   ]
  },
  {
   "cell_type": "code",
   "execution_count": 17,
   "id": "7f1244fa-995c-49ad-b961-70c70b44d8ed",
   "metadata": {},
   "outputs": [
    {
     "data": {
      "text/plain": [
       "{'message': 'Training'}"
      ]
     },
     "execution_count": 17,
     "metadata": {},
     "output_type": "execute_result"
    }
   ],
   "source": [
    "response = requests.post( \n",
    "    \"http://localhost:8050/finetune-whisperseg\",\n",
    "    data = json.dumps({\n",
    "        \"audio_id\":audio_id,\n",
    "        \"annotated_areas\":annotated_areas,\n",
    "        \"human_labels\":human_labels,\n",
    "        \"new_model_name\":new_model_name,\n",
    "        \"inital_model_name\":inital_model_name,\n",
    "        \"min_frequency\":min_frequency\n",
    "    }),\n",
    "    headers = {\"content-type\":\"application/json\"}\n",
    ").json()\n",
    "\n",
    "response"
   ]
  },
  {
   "cell_type": "markdown",
   "id": "5500bd65-1fc3-4683-9bf3-4886deaf3b77",
   "metadata": {},
   "source": [
    "Let's see the status of model being trained"
   ]
  },
  {
   "cell_type": "code",
   "execution_count": 23,
   "id": "d5f4ccb6-af78-4a47-a3f4-2d4229c9c1cd",
   "metadata": {},
   "outputs": [
    {
     "data": {
      "text/plain": [
       "[]"
      ]
     },
     "execution_count": 23,
     "metadata": {},
     "output_type": "execute_result"
    }
   ],
   "source": [
    "requests.post(  \"http://localhost:8050/list-models-training-in-progress\" ).json()[\"response\"] "
   ]
  },
  {
   "cell_type": "markdown",
   "id": "c10a0ffa-10e3-45a7-83a6-62eb79e27277",
   "metadata": {},
   "source": [
    "### Use the finetuned model to segment the rest of the audios"
   ]
  },
  {
   "cell_type": "code",
   "execution_count": 24,
   "id": "42bbc255-52b6-4827-b09e-3e7352cc9b4c",
   "metadata": {},
   "outputs": [],
   "source": [
    "response = requests.post( \n",
    "    \"http://localhost:8050/get-labels\",\n",
    "    data = json.dumps( {\n",
    "        \"audio_id\":audio_id,\n",
    "        \"annotated_areas\":annotated_areas,\n",
    "        \"human_labels\":human_labels,\n",
    "        \"model_name\":\"whisperseg-base-debug-v3.0\",\n",
    "        \"min_frequency\": 0\n",
    "    }),\n",
    "    headers = {\"content-type\":\"application/json\"}\n",
    ").json()"
   ]
  },
  {
   "cell_type": "code",
   "execution_count": 17,
   "id": "37a21add-3805-4a2e-9f62-50f167c19dc4",
   "metadata": {},
   "outputs": [],
   "source": [
    "# response[\"labels\"]"
   ]
  },
  {
   "cell_type": "code",
   "execution_count": 25,
   "id": "242de37d-103b-4d1a-9063-93c0c25f3a0a",
   "metadata": {},
   "outputs": [],
   "source": [
    "out_df = pd.DataFrame( response[\"labels\"])\n",
    "out_df[\"filename\"]=\"audio.wav\"\n",
    "out_df[\"channelIndex\"] = 0\n",
    "out_df = out_df[[\"onset\", \"offset\", \"species\", \"individual\", \"clustername\", \"filename\", \"channelIndex\"]]"
   ]
  },
  {
   "cell_type": "code",
   "execution_count": 26,
   "id": "08b091b8-ff1c-4de7-8af6-e7bbd745ba7a",
   "metadata": {},
   "outputs": [
    {
     "data": {
      "text/html": [
       "<div>\n",
       "<style scoped>\n",
       "    .dataframe tbody tr th:only-of-type {\n",
       "        vertical-align: middle;\n",
       "    }\n",
       "\n",
       "    .dataframe tbody tr th {\n",
       "        vertical-align: top;\n",
       "    }\n",
       "\n",
       "    .dataframe thead th {\n",
       "        text-align: right;\n",
       "    }\n",
       "</style>\n",
       "<table border=\"1\" class=\"dataframe\">\n",
       "  <thead>\n",
       "    <tr style=\"text-align: right;\">\n",
       "      <th></th>\n",
       "      <th>onset</th>\n",
       "      <th>offset</th>\n",
       "      <th>species</th>\n",
       "      <th>individual</th>\n",
       "      <th>clustername</th>\n",
       "      <th>filename</th>\n",
       "      <th>channelIndex</th>\n",
       "    </tr>\n",
       "  </thead>\n",
       "  <tbody>\n",
       "    <tr>\n",
       "      <th>0</th>\n",
       "      <td>0.000000</td>\n",
       "      <td>0.121816</td>\n",
       "      <td>zebra finch</td>\n",
       "      <td>bird1</td>\n",
       "      <td>U</td>\n",
       "      <td>audio.wav</td>\n",
       "      <td>0</td>\n",
       "    </tr>\n",
       "    <tr>\n",
       "      <th>1</th>\n",
       "      <td>0.178039</td>\n",
       "      <td>0.271743</td>\n",
       "      <td>zebra finch</td>\n",
       "      <td>bird1</td>\n",
       "      <td>U</td>\n",
       "      <td>audio.wav</td>\n",
       "      <td>0</td>\n",
       "    </tr>\n",
       "    <tr>\n",
       "      <th>2</th>\n",
       "      <td>0.290484</td>\n",
       "      <td>0.393559</td>\n",
       "      <td>zebra finch</td>\n",
       "      <td>bird1</td>\n",
       "      <td>U</td>\n",
       "      <td>audio.wav</td>\n",
       "      <td>0</td>\n",
       "    </tr>\n",
       "    <tr>\n",
       "      <th>3</th>\n",
       "      <td>0.440411</td>\n",
       "      <td>0.599709</td>\n",
       "      <td>zebra finch</td>\n",
       "      <td>bird1</td>\n",
       "      <td>A</td>\n",
       "      <td>audio.wav</td>\n",
       "      <td>0</td>\n",
       "    </tr>\n",
       "    <tr>\n",
       "      <th>4</th>\n",
       "      <td>0.599709</td>\n",
       "      <td>0.862082</td>\n",
       "      <td>zebra finch</td>\n",
       "      <td>bird1</td>\n",
       "      <td>B</td>\n",
       "      <td>audio.wav</td>\n",
       "      <td>0</td>\n",
       "    </tr>\n",
       "    <tr>\n",
       "      <th>...</th>\n",
       "      <td>...</td>\n",
       "      <td>...</td>\n",
       "      <td>...</td>\n",
       "      <td>...</td>\n",
       "      <td>...</td>\n",
       "      <td>...</td>\n",
       "      <td>...</td>\n",
       "    </tr>\n",
       "    <tr>\n",
       "      <th>416</th>\n",
       "      <td>204.103000</td>\n",
       "      <td>204.303000</td>\n",
       "      <td>zebra finch</td>\n",
       "      <td>bird1</td>\n",
       "      <td>C</td>\n",
       "      <td>audio.wav</td>\n",
       "      <td>0</td>\n",
       "    </tr>\n",
       "    <tr>\n",
       "      <th>417</th>\n",
       "      <td>204.310000</td>\n",
       "      <td>204.517000</td>\n",
       "      <td>zebra finch</td>\n",
       "      <td>bird1</td>\n",
       "      <td>A</td>\n",
       "      <td>audio.wav</td>\n",
       "      <td>0</td>\n",
       "    </tr>\n",
       "    <tr>\n",
       "      <th>418</th>\n",
       "      <td>204.520000</td>\n",
       "      <td>204.770000</td>\n",
       "      <td>zebra finch</td>\n",
       "      <td>bird1</td>\n",
       "      <td>B</td>\n",
       "      <td>audio.wav</td>\n",
       "      <td>0</td>\n",
       "    </tr>\n",
       "    <tr>\n",
       "      <th>419</th>\n",
       "      <td>204.853000</td>\n",
       "      <td>205.027000</td>\n",
       "      <td>zebra finch</td>\n",
       "      <td>bird1</td>\n",
       "      <td>A</td>\n",
       "      <td>audio.wav</td>\n",
       "      <td>0</td>\n",
       "    </tr>\n",
       "    <tr>\n",
       "      <th>420</th>\n",
       "      <td>205.027000</td>\n",
       "      <td>205.300000</td>\n",
       "      <td>zebra finch</td>\n",
       "      <td>bird1</td>\n",
       "      <td>B</td>\n",
       "      <td>audio.wav</td>\n",
       "      <td>0</td>\n",
       "    </tr>\n",
       "  </tbody>\n",
       "</table>\n",
       "<p>421 rows × 7 columns</p>\n",
       "</div>"
      ],
      "text/plain": [
       "          onset      offset      species individual clustername   filename   \n",
       "0      0.000000    0.121816  zebra finch      bird1           U  audio.wav  \\\n",
       "1      0.178039    0.271743  zebra finch      bird1           U  audio.wav   \n",
       "2      0.290484    0.393559  zebra finch      bird1           U  audio.wav   \n",
       "3      0.440411    0.599709  zebra finch      bird1           A  audio.wav   \n",
       "4      0.599709    0.862082  zebra finch      bird1           B  audio.wav   \n",
       "..          ...         ...          ...        ...         ...        ...   \n",
       "416  204.103000  204.303000  zebra finch      bird1           C  audio.wav   \n",
       "417  204.310000  204.517000  zebra finch      bird1           A  audio.wav   \n",
       "418  204.520000  204.770000  zebra finch      bird1           B  audio.wav   \n",
       "419  204.853000  205.027000  zebra finch      bird1           A  audio.wav   \n",
       "420  205.027000  205.300000  zebra finch      bird1           B  audio.wav   \n",
       "\n",
       "     channelIndex  \n",
       "0               0  \n",
       "1               0  \n",
       "2               0  \n",
       "3               0  \n",
       "4               0  \n",
       "..            ...  \n",
       "416             0  \n",
       "417             0  \n",
       "418             0  \n",
       "419             0  \n",
       "420             0  \n",
       "\n",
       "[421 rows x 7 columns]"
      ]
     },
     "execution_count": 26,
     "metadata": {},
     "output_type": "execute_result"
    }
   ],
   "source": [
    "out_df"
   ]
  },
  {
   "cell_type": "code",
   "execution_count": 28,
   "id": "0f5d5820-7be0-4b56-9868-3c59c0a79b54",
   "metadata": {},
   "outputs": [],
   "source": [
    "out_df.to_csv(\"example_audios/human-in-the-loop-training-example/pred_annotations.csv\", index = False)"
   ]
  },
  {
   "cell_type": "markdown",
   "id": "8e5cfa7e-eee5-4b92-a09f-15750e2948fe",
   "metadata": {},
   "source": [
    "This prediction can be rendered on the frontend."
   ]
  },
  {
   "cell_type": "code",
   "execution_count": null,
   "id": "1ac52bc4-7477-4528-90a1-28ab6f499938",
   "metadata": {},
   "outputs": [],
   "source": []
  }
 ],
 "metadata": {
  "kernelspec": {
   "display_name": "Python 3 (ipykernel)",
   "language": "python",
   "name": "python3"
  },
  "language_info": {
   "codemirror_mode": {
    "name": "ipython",
    "version": 3
   },
   "file_extension": ".py",
   "mimetype": "text/x-python",
   "name": "python",
   "nbconvert_exporter": "python",
   "pygments_lexer": "ipython3",
   "version": "3.10.10"
  }
 },
 "nbformat": 4,
 "nbformat_minor": 5
}
