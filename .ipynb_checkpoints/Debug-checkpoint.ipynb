{
 "cells": [
  {
   "cell_type": "code",
   "execution_count": 1,
   "id": "ceeaa75d-c422-47d9-a020-fac5dd1fe73d",
   "metadata": {},
   "outputs": [],
   "source": [
    "from spec_utils import *\n",
    "import librosa\n",
    "from glob import glob"
   ]
  },
  {
   "cell_type": "code",
   "execution_count": 2,
   "id": "9a88ca06-25eb-4ddd-851c-6ff599c0e60b",
   "metadata": {},
   "outputs": [],
   "source": [
    "audio, sr = librosa.load(\"/Users/meilong/Downloads/blk411_44013.31484420_7_1_8_44_44.wav\")"
   ]
  },
  {
   "cell_type": "code",
   "execution_count": 3,
   "id": "029b39dc-91a8-4a48-837f-4429153904d3",
   "metadata": {},
   "outputs": [],
   "source": [
    "spec_cal_constant_q = SpecCalConstantQ(sr, hop_length = 80)"
   ]
  },
  {
   "cell_type": "code",
   "execution_count": 4,
   "id": "a7c84464-b705-4c85-9d36-51c77def02c8",
   "metadata": {},
   "outputs": [
    {
     "data": {
      "text/plain": [
       "45"
      ]
     },
     "execution_count": 4,
     "metadata": {},
     "output_type": "execute_result"
    }
   ],
   "source": [
    "spec_cal_constant_q.bins_per_octave"
   ]
  },
  {
   "cell_type": "code",
   "execution_count": 5,
   "id": "02132c94-5292-4d77-b9f4-e3b6e6c2e5a9",
   "metadata": {},
   "outputs": [
    {
     "data": {
      "text/plain": [
       "1"
      ]
     },
     "execution_count": 5,
     "metadata": {},
     "output_type": "execute_result"
    }
   ],
   "source": [
    "spec_cal_constant_q.min_bins_per_octave"
   ]
  },
  {
   "cell_type": "code",
   "execution_count": 6,
   "id": "94d870c8-3a23-4393-917a-365e7fc4870f",
   "metadata": {},
   "outputs": [
    {
     "data": {
      "text/plain": [
       "45"
      ]
     },
     "execution_count": 6,
     "metadata": {},
     "output_type": "execute_result"
    }
   ],
   "source": [
    "spec_cal_constant_q.max_bins_per_octave"
   ]
  },
  {
   "cell_type": "code",
   "execution_count": null,
   "id": "1461f8d4-1504-4c58-b6df-55f268ef391d",
   "metadata": {},
   "outputs": [],
   "source": []
  }
 ],
 "metadata": {
  "kernelspec": {
   "display_name": "Python 3 (ipykernel)",
   "language": "python",
   "name": "python3"
  },
  "language_info": {
   "codemirror_mode": {
    "name": "ipython",
    "version": 3
   },
   "file_extension": ".py",
   "mimetype": "text/x-python",
   "name": "python",
   "nbconvert_exporter": "python",
   "pygments_lexer": "ipython3",
   "version": "3.10.10"
  }
 },
 "nbformat": 4,
 "nbformat_minor": 5
}
