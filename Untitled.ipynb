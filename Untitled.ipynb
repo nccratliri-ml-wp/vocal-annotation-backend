{
 "cells": [
  {
   "cell_type": "code",
   "execution_count": null,
   "id": "a1dfb1c3-29f3-4f7d-9f14-81860ca8397c",
   "metadata": {},
   "outputs": [],
   "source": [
    "{\n",
    "  \"response\": [\n",
    "    {\n",
    "      \"annotation_instance\": \"bandpass_white_noise\",\n",
    "      \"f_high\": 16000,\n",
    "      \"f_low\": 0,\n",
    "      \"filename\": \"white-noise.wav\",\n",
    "      \"hop_length\": 160,\n",
    "      \"id\": \"test_bandpass_white_noise_1\",\n",
    "      \"labels\": {\n",
    "        \"channels\": {}\n",
    "      },\n",
    "      \"nfft\": 1024,\n",
    "      \"num_spec_columns\": 1000,\n",
    "      \"sampling_rate\": 32000,\n",
    "      \"spec_cal_method\": \"dummy\",\n",
    "      \"time\": \"2024-08-20 20:01:43\",\n",
    "      \"url\": \"https://huggingface.co/datasets/nccratliri/example-bandpass-white-noise/resolve/main/white-noise.wav\"\n",
    "    }\n",
    "  ]\n",
    "}"
   ]
  }
 ],
 "metadata": {
  "kernelspec": {
   "display_name": "Python 3 (ipykernel)",
   "language": "python",
   "name": "python3"
  },
  "language_info": {
   "codemirror_mode": {
    "name": "ipython",
    "version": 3
   },
   "file_extension": ".py",
   "mimetype": "text/x-python",
   "name": "python",
   "nbconvert_exporter": "python",
   "pygments_lexer": "ipython3",
   "version": "3.10.10"
  }
 },
 "nbformat": 4,
 "nbformat_minor": 5
}
